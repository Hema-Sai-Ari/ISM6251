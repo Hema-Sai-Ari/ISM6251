{
 "cells": [
  {
   "cell_type": "markdown",
   "id": "58876eb6",
   "metadata": {},
   "source": [
    "# Assignment-1"
   ]
  },
  {
   "cell_type": "markdown",
   "id": "d9818a6f",
   "metadata": {},
   "source": [
    "## Hema Sai Ari"
   ]
  },
  {
   "cell_type": "markdown",
   "id": "353946c8",
   "metadata": {},
   "source": [
    "### Aim of the Analysis\n"
   ]
  },
  {
   "cell_type": "markdown",
   "id": "826888cf",
   "metadata": {},
   "source": [
    "False Alarms are being the main problem for the fire fighters.There were many situations where an fire alaram couldnt detect an actual fire and there were many more cases where an fire alaram goes on even if there is no smoke. So the aim of this analysis is to develop a AI based smoke Alarm which can be used along side with the traditional smoke alarm. So that it will reduce the number of false Alarms. We will fit different models to the data which were collected from different environmental conditions and decide on a single model and deploye it into the AI based smoke Alaram"
   ]
  },
  {
   "cell_type": "markdown",
   "id": "7f46b3bb",
   "metadata": {},
   "source": [
    "### About the Data Set\n",
    "\n",
    "This data set have around 16 attributes in which 15 are input variables and Fire Alarm is the target variable.The input varaibles are the data of various factors which are the main reasons for the fire/smoke. All these data were taken in different environmental conditions in which few are simulated."
   ]
  },
  {
   "cell_type": "markdown",
   "id": "f56f4b88",
   "metadata": {},
   "source": [
    "### Importing the packages"
   ]
  },
  {
   "cell_type": "code",
   "execution_count": 1,
   "id": "01f44a5e",
   "metadata": {},
   "outputs": [],
   "source": [
    "import pandas as pd\n",
    "import numpy as np\n",
    "import seaborn as sns\n",
    "\n",
    "\n",
    "\n",
    "from sklearn.model_selection import train_test_split\n",
    "\n",
    "\n",
    "# setting random seed to ensure that results are repeatable\n",
    "np.random.seed(7026)\n"
   ]
  },
  {
   "cell_type": "markdown",
   "id": "a0f3f8e1",
   "metadata": {},
   "source": [
    "### Importing the Data Set"
   ]
  },
  {
   "cell_type": "code",
   "execution_count": 2,
   "id": "18ab6923",
   "metadata": {},
   "outputs": [],
   "source": [
    "df=pd.read_csv('smoke_detection_iot.csv')"
   ]
  },
  {
   "cell_type": "code",
   "execution_count": 3,
   "id": "96d973a5",
   "metadata": {},
   "outputs": [
    {
     "data": {
      "text/html": [
       "<div>\n",
       "<style scoped>\n",
       "    .dataframe tbody tr th:only-of-type {\n",
       "        vertical-align: middle;\n",
       "    }\n",
       "\n",
       "    .dataframe tbody tr th {\n",
       "        vertical-align: top;\n",
       "    }\n",
       "\n",
       "    .dataframe thead th {\n",
       "        text-align: right;\n",
       "    }\n",
       "</style>\n",
       "<table border=\"1\" class=\"dataframe\">\n",
       "  <thead>\n",
       "    <tr style=\"text-align: right;\">\n",
       "      <th></th>\n",
       "      <th>Unnamed: 0</th>\n",
       "      <th>UTC</th>\n",
       "      <th>Temperature[C]</th>\n",
       "      <th>Humidity[%]</th>\n",
       "      <th>TVOC[ppb]</th>\n",
       "      <th>eCO2[ppm]</th>\n",
       "      <th>Raw H2</th>\n",
       "      <th>Raw Ethanol</th>\n",
       "      <th>Pressure[hPa]</th>\n",
       "      <th>PM1.0</th>\n",
       "      <th>PM2.5</th>\n",
       "      <th>NC0.5</th>\n",
       "      <th>NC1.0</th>\n",
       "      <th>NC2.5</th>\n",
       "      <th>CNT</th>\n",
       "      <th>Fire Alarm</th>\n",
       "    </tr>\n",
       "  </thead>\n",
       "  <tbody>\n",
       "    <tr>\n",
       "      <th>0</th>\n",
       "      <td>0</td>\n",
       "      <td>1654733331</td>\n",
       "      <td>20.000</td>\n",
       "      <td>57.36</td>\n",
       "      <td>0</td>\n",
       "      <td>400</td>\n",
       "      <td>12306</td>\n",
       "      <td>18520</td>\n",
       "      <td>939.735</td>\n",
       "      <td>0.0</td>\n",
       "      <td>0.00</td>\n",
       "      <td>0.0</td>\n",
       "      <td>0.000</td>\n",
       "      <td>0.00</td>\n",
       "      <td>0</td>\n",
       "      <td>0</td>\n",
       "    </tr>\n",
       "    <tr>\n",
       "      <th>1</th>\n",
       "      <td>1</td>\n",
       "      <td>1654733332</td>\n",
       "      <td>20.015</td>\n",
       "      <td>56.67</td>\n",
       "      <td>0</td>\n",
       "      <td>400</td>\n",
       "      <td>12345</td>\n",
       "      <td>18651</td>\n",
       "      <td>939.744</td>\n",
       "      <td>0.0</td>\n",
       "      <td>0.00</td>\n",
       "      <td>0.0</td>\n",
       "      <td>0.000</td>\n",
       "      <td>0.00</td>\n",
       "      <td>1</td>\n",
       "      <td>0</td>\n",
       "    </tr>\n",
       "    <tr>\n",
       "      <th>2</th>\n",
       "      <td>2</td>\n",
       "      <td>1654733333</td>\n",
       "      <td>20.029</td>\n",
       "      <td>55.96</td>\n",
       "      <td>0</td>\n",
       "      <td>400</td>\n",
       "      <td>12374</td>\n",
       "      <td>18764</td>\n",
       "      <td>939.738</td>\n",
       "      <td>0.0</td>\n",
       "      <td>0.00</td>\n",
       "      <td>0.0</td>\n",
       "      <td>0.000</td>\n",
       "      <td>0.00</td>\n",
       "      <td>2</td>\n",
       "      <td>0</td>\n",
       "    </tr>\n",
       "    <tr>\n",
       "      <th>3</th>\n",
       "      <td>3</td>\n",
       "      <td>1654733334</td>\n",
       "      <td>20.044</td>\n",
       "      <td>55.28</td>\n",
       "      <td>0</td>\n",
       "      <td>400</td>\n",
       "      <td>12390</td>\n",
       "      <td>18849</td>\n",
       "      <td>939.736</td>\n",
       "      <td>0.0</td>\n",
       "      <td>0.00</td>\n",
       "      <td>0.0</td>\n",
       "      <td>0.000</td>\n",
       "      <td>0.00</td>\n",
       "      <td>3</td>\n",
       "      <td>0</td>\n",
       "    </tr>\n",
       "    <tr>\n",
       "      <th>4</th>\n",
       "      <td>4</td>\n",
       "      <td>1654733335</td>\n",
       "      <td>20.059</td>\n",
       "      <td>54.69</td>\n",
       "      <td>0</td>\n",
       "      <td>400</td>\n",
       "      <td>12403</td>\n",
       "      <td>18921</td>\n",
       "      <td>939.744</td>\n",
       "      <td>0.0</td>\n",
       "      <td>0.00</td>\n",
       "      <td>0.0</td>\n",
       "      <td>0.000</td>\n",
       "      <td>0.00</td>\n",
       "      <td>4</td>\n",
       "      <td>0</td>\n",
       "    </tr>\n",
       "    <tr>\n",
       "      <th>5</th>\n",
       "      <td>5</td>\n",
       "      <td>1654733336</td>\n",
       "      <td>20.073</td>\n",
       "      <td>54.12</td>\n",
       "      <td>0</td>\n",
       "      <td>400</td>\n",
       "      <td>12419</td>\n",
       "      <td>18998</td>\n",
       "      <td>939.725</td>\n",
       "      <td>0.0</td>\n",
       "      <td>0.00</td>\n",
       "      <td>0.0</td>\n",
       "      <td>0.000</td>\n",
       "      <td>0.00</td>\n",
       "      <td>5</td>\n",
       "      <td>0</td>\n",
       "    </tr>\n",
       "    <tr>\n",
       "      <th>6</th>\n",
       "      <td>6</td>\n",
       "      <td>1654733337</td>\n",
       "      <td>20.088</td>\n",
       "      <td>53.61</td>\n",
       "      <td>0</td>\n",
       "      <td>400</td>\n",
       "      <td>12432</td>\n",
       "      <td>19058</td>\n",
       "      <td>939.738</td>\n",
       "      <td>0.0</td>\n",
       "      <td>0.00</td>\n",
       "      <td>0.0</td>\n",
       "      <td>0.000</td>\n",
       "      <td>0.00</td>\n",
       "      <td>6</td>\n",
       "      <td>0</td>\n",
       "    </tr>\n",
       "    <tr>\n",
       "      <th>7</th>\n",
       "      <td>7</td>\n",
       "      <td>1654733338</td>\n",
       "      <td>20.103</td>\n",
       "      <td>53.20</td>\n",
       "      <td>0</td>\n",
       "      <td>400</td>\n",
       "      <td>12439</td>\n",
       "      <td>19114</td>\n",
       "      <td>939.758</td>\n",
       "      <td>0.0</td>\n",
       "      <td>0.00</td>\n",
       "      <td>0.0</td>\n",
       "      <td>0.000</td>\n",
       "      <td>0.00</td>\n",
       "      <td>7</td>\n",
       "      <td>0</td>\n",
       "    </tr>\n",
       "    <tr>\n",
       "      <th>8</th>\n",
       "      <td>8</td>\n",
       "      <td>1654733339</td>\n",
       "      <td>20.117</td>\n",
       "      <td>52.81</td>\n",
       "      <td>0</td>\n",
       "      <td>400</td>\n",
       "      <td>12448</td>\n",
       "      <td>19155</td>\n",
       "      <td>939.758</td>\n",
       "      <td>0.0</td>\n",
       "      <td>0.00</td>\n",
       "      <td>0.0</td>\n",
       "      <td>0.000</td>\n",
       "      <td>0.00</td>\n",
       "      <td>8</td>\n",
       "      <td>0</td>\n",
       "    </tr>\n",
       "    <tr>\n",
       "      <th>9</th>\n",
       "      <td>9</td>\n",
       "      <td>1654733340</td>\n",
       "      <td>20.132</td>\n",
       "      <td>52.46</td>\n",
       "      <td>0</td>\n",
       "      <td>400</td>\n",
       "      <td>12453</td>\n",
       "      <td>19195</td>\n",
       "      <td>939.756</td>\n",
       "      <td>0.9</td>\n",
       "      <td>3.78</td>\n",
       "      <td>0.0</td>\n",
       "      <td>4.369</td>\n",
       "      <td>2.78</td>\n",
       "      <td>9</td>\n",
       "      <td>0</td>\n",
       "    </tr>\n",
       "  </tbody>\n",
       "</table>\n",
       "</div>"
      ],
      "text/plain": [
       "   Unnamed: 0         UTC  Temperature[C]  Humidity[%]  TVOC[ppb]  eCO2[ppm]   \n",
       "0           0  1654733331          20.000        57.36          0        400  \\\n",
       "1           1  1654733332          20.015        56.67          0        400   \n",
       "2           2  1654733333          20.029        55.96          0        400   \n",
       "3           3  1654733334          20.044        55.28          0        400   \n",
       "4           4  1654733335          20.059        54.69          0        400   \n",
       "5           5  1654733336          20.073        54.12          0        400   \n",
       "6           6  1654733337          20.088        53.61          0        400   \n",
       "7           7  1654733338          20.103        53.20          0        400   \n",
       "8           8  1654733339          20.117        52.81          0        400   \n",
       "9           9  1654733340          20.132        52.46          0        400   \n",
       "\n",
       "   Raw H2  Raw Ethanol  Pressure[hPa]  PM1.0  PM2.5  NC0.5  NC1.0  NC2.5  CNT   \n",
       "0   12306        18520        939.735    0.0   0.00    0.0  0.000   0.00    0  \\\n",
       "1   12345        18651        939.744    0.0   0.00    0.0  0.000   0.00    1   \n",
       "2   12374        18764        939.738    0.0   0.00    0.0  0.000   0.00    2   \n",
       "3   12390        18849        939.736    0.0   0.00    0.0  0.000   0.00    3   \n",
       "4   12403        18921        939.744    0.0   0.00    0.0  0.000   0.00    4   \n",
       "5   12419        18998        939.725    0.0   0.00    0.0  0.000   0.00    5   \n",
       "6   12432        19058        939.738    0.0   0.00    0.0  0.000   0.00    6   \n",
       "7   12439        19114        939.758    0.0   0.00    0.0  0.000   0.00    7   \n",
       "8   12448        19155        939.758    0.0   0.00    0.0  0.000   0.00    8   \n",
       "9   12453        19195        939.756    0.9   3.78    0.0  4.369   2.78    9   \n",
       "\n",
       "   Fire Alarm  \n",
       "0           0  \n",
       "1           0  \n",
       "2           0  \n",
       "3           0  \n",
       "4           0  \n",
       "5           0  \n",
       "6           0  \n",
       "7           0  \n",
       "8           0  \n",
       "9           0  "
      ]
     },
     "execution_count": 3,
     "metadata": {},
     "output_type": "execute_result"
    }
   ],
   "source": [
    "# Looking at the Data(overview of data)\n",
    "df.head(10)"
   ]
  },
  {
   "cell_type": "markdown",
   "id": "86def421",
   "metadata": {},
   "source": [
    "Here we can observe that there are few useless attributes(columns) which doesnt effect our target variable. They are :\n",
    "- Unnamed:0  : which is just the row numbers\n",
    "- UTC        : Which is the Time Stamp\n",
    "- CNT        : Sample Counter\n",
    "\n",
    "So we can drop these columns and decrease our run time"
   ]
  },
  {
   "cell_type": "markdown",
   "id": "c807f300",
   "metadata": {},
   "source": [
    "### Dropping unnesasary columns/attributes"
   ]
  },
  {
   "cell_type": "code",
   "execution_count": 4,
   "id": "49fe5151",
   "metadata": {},
   "outputs": [
    {
     "data": {
      "text/html": [
       "<div>\n",
       "<style scoped>\n",
       "    .dataframe tbody tr th:only-of-type {\n",
       "        vertical-align: middle;\n",
       "    }\n",
       "\n",
       "    .dataframe tbody tr th {\n",
       "        vertical-align: top;\n",
       "    }\n",
       "\n",
       "    .dataframe thead th {\n",
       "        text-align: right;\n",
       "    }\n",
       "</style>\n",
       "<table border=\"1\" class=\"dataframe\">\n",
       "  <thead>\n",
       "    <tr style=\"text-align: right;\">\n",
       "      <th></th>\n",
       "      <th>Temperature[C]</th>\n",
       "      <th>Humidity[%]</th>\n",
       "      <th>TVOC[ppb]</th>\n",
       "      <th>eCO2[ppm]</th>\n",
       "      <th>Raw H2</th>\n",
       "      <th>Raw Ethanol</th>\n",
       "      <th>Pressure[hPa]</th>\n",
       "      <th>PM1.0</th>\n",
       "      <th>PM2.5</th>\n",
       "      <th>NC0.5</th>\n",
       "      <th>NC1.0</th>\n",
       "      <th>NC2.5</th>\n",
       "      <th>Fire Alarm</th>\n",
       "    </tr>\n",
       "  </thead>\n",
       "  <tbody>\n",
       "    <tr>\n",
       "      <th>0</th>\n",
       "      <td>20.000</td>\n",
       "      <td>57.36</td>\n",
       "      <td>0</td>\n",
       "      <td>400</td>\n",
       "      <td>12306</td>\n",
       "      <td>18520</td>\n",
       "      <td>939.735</td>\n",
       "      <td>0.0</td>\n",
       "      <td>0.0</td>\n",
       "      <td>0.0</td>\n",
       "      <td>0.0</td>\n",
       "      <td>0.0</td>\n",
       "      <td>0</td>\n",
       "    </tr>\n",
       "    <tr>\n",
       "      <th>1</th>\n",
       "      <td>20.015</td>\n",
       "      <td>56.67</td>\n",
       "      <td>0</td>\n",
       "      <td>400</td>\n",
       "      <td>12345</td>\n",
       "      <td>18651</td>\n",
       "      <td>939.744</td>\n",
       "      <td>0.0</td>\n",
       "      <td>0.0</td>\n",
       "      <td>0.0</td>\n",
       "      <td>0.0</td>\n",
       "      <td>0.0</td>\n",
       "      <td>0</td>\n",
       "    </tr>\n",
       "    <tr>\n",
       "      <th>2</th>\n",
       "      <td>20.029</td>\n",
       "      <td>55.96</td>\n",
       "      <td>0</td>\n",
       "      <td>400</td>\n",
       "      <td>12374</td>\n",
       "      <td>18764</td>\n",
       "      <td>939.738</td>\n",
       "      <td>0.0</td>\n",
       "      <td>0.0</td>\n",
       "      <td>0.0</td>\n",
       "      <td>0.0</td>\n",
       "      <td>0.0</td>\n",
       "      <td>0</td>\n",
       "    </tr>\n",
       "    <tr>\n",
       "      <th>3</th>\n",
       "      <td>20.044</td>\n",
       "      <td>55.28</td>\n",
       "      <td>0</td>\n",
       "      <td>400</td>\n",
       "      <td>12390</td>\n",
       "      <td>18849</td>\n",
       "      <td>939.736</td>\n",
       "      <td>0.0</td>\n",
       "      <td>0.0</td>\n",
       "      <td>0.0</td>\n",
       "      <td>0.0</td>\n",
       "      <td>0.0</td>\n",
       "      <td>0</td>\n",
       "    </tr>\n",
       "    <tr>\n",
       "      <th>4</th>\n",
       "      <td>20.059</td>\n",
       "      <td>54.69</td>\n",
       "      <td>0</td>\n",
       "      <td>400</td>\n",
       "      <td>12403</td>\n",
       "      <td>18921</td>\n",
       "      <td>939.744</td>\n",
       "      <td>0.0</td>\n",
       "      <td>0.0</td>\n",
       "      <td>0.0</td>\n",
       "      <td>0.0</td>\n",
       "      <td>0.0</td>\n",
       "      <td>0</td>\n",
       "    </tr>\n",
       "  </tbody>\n",
       "</table>\n",
       "</div>"
      ],
      "text/plain": [
       "   Temperature[C]  Humidity[%]  TVOC[ppb]  eCO2[ppm]  Raw H2  Raw Ethanol   \n",
       "0          20.000        57.36          0        400   12306        18520  \\\n",
       "1          20.015        56.67          0        400   12345        18651   \n",
       "2          20.029        55.96          0        400   12374        18764   \n",
       "3          20.044        55.28          0        400   12390        18849   \n",
       "4          20.059        54.69          0        400   12403        18921   \n",
       "\n",
       "   Pressure[hPa]  PM1.0  PM2.5  NC0.5  NC1.0  NC2.5  Fire Alarm  \n",
       "0        939.735    0.0    0.0    0.0    0.0    0.0           0  \n",
       "1        939.744    0.0    0.0    0.0    0.0    0.0           0  \n",
       "2        939.738    0.0    0.0    0.0    0.0    0.0           0  \n",
       "3        939.736    0.0    0.0    0.0    0.0    0.0           0  \n",
       "4        939.744    0.0    0.0    0.0    0.0    0.0           0  "
      ]
     },
     "execution_count": 4,
     "metadata": {},
     "output_type": "execute_result"
    }
   ],
   "source": [
    "df=df.drop(columns=['Unnamed: 0','UTC','CNT'])\n",
    "\n",
    "df.head(5)"
   ]
  },
  {
   "cell_type": "markdown",
   "id": "233cb3ca",
   "metadata": {},
   "source": [
    "### Renamming the columns \n",
    "\n",
    "Lets rename the columns into a simplier way so that we can call them easily when needed"
   ]
  },
  {
   "cell_type": "code",
   "execution_count": 5,
   "id": "eb677c16",
   "metadata": {},
   "outputs": [
    {
     "data": {
      "text/plain": [
       "Index(['Temperatur_C', 'Humidity_percent', 'TVOC_ppd', 'eCO2_ppm', 'Raw_H2',\n",
       "       'Raw_Ethanol', 'Pressure_hpa', 'PM1_0', 'PM2_5', 'NC0_5', 'NC1_0',\n",
       "       'NC2_5', 'Fire_Alarm'],\n",
       "      dtype='object')"
      ]
     },
     "execution_count": 5,
     "metadata": {},
     "output_type": "execute_result"
    }
   ],
   "source": [
    "df.columns = [s.strip().replace(' ', '_') for s in df.columns]\n",
    "# will replace the space between words in the column names with _\n",
    "\n",
    "df.columns = [s.strip().replace('.', '_') for s in df.columns] \n",
    "# will replace the dots in few columns names with an _\n",
    "\n",
    "df.columns=[s.strip().replace('Temperature[C]','Temperatur_C') for s in df.columns]\n",
    "df.columns=[s.strip().replace('TVOC[ppb]','TVOC_ppd') for s in df.columns]\n",
    "df.columns=[s.strip().replace('eCO2[ppm]','eCO2_ppm') for s in df.columns]\n",
    "df.columns=[s.strip().replace('Pressure[hPa]','Pressure_hpa') for s in df.columns]\n",
    "df.columns=[s.strip().replace('Humidity[%]','Humidity_percent') for s in df.columns]\n",
    "\n",
    "df.columns"
   ]
  },
  {
   "cell_type": "markdown",
   "id": "8c400e96",
   "metadata": {},
   "source": [
    "### Data summary"
   ]
  },
  {
   "cell_type": "code",
   "execution_count": 6,
   "id": "6ffd2260",
   "metadata": {},
   "outputs": [
    {
     "data": {
      "text/html": [
       "<div>\n",
       "<style scoped>\n",
       "    .dataframe tbody tr th:only-of-type {\n",
       "        vertical-align: middle;\n",
       "    }\n",
       "\n",
       "    .dataframe tbody tr th {\n",
       "        vertical-align: top;\n",
       "    }\n",
       "\n",
       "    .dataframe thead th {\n",
       "        text-align: right;\n",
       "    }\n",
       "</style>\n",
       "<table border=\"1\" class=\"dataframe\">\n",
       "  <thead>\n",
       "    <tr style=\"text-align: right;\">\n",
       "      <th></th>\n",
       "      <th>Temperatur_C</th>\n",
       "      <th>Humidity_percent</th>\n",
       "      <th>TVOC_ppd</th>\n",
       "      <th>eCO2_ppm</th>\n",
       "      <th>Raw_H2</th>\n",
       "      <th>Raw_Ethanol</th>\n",
       "      <th>Pressure_hpa</th>\n",
       "      <th>PM1_0</th>\n",
       "      <th>PM2_5</th>\n",
       "      <th>NC0_5</th>\n",
       "      <th>NC1_0</th>\n",
       "      <th>NC2_5</th>\n",
       "      <th>Fire_Alarm</th>\n",
       "    </tr>\n",
       "  </thead>\n",
       "  <tbody>\n",
       "    <tr>\n",
       "      <th>count</th>\n",
       "      <td>62630.000000</td>\n",
       "      <td>62630.000000</td>\n",
       "      <td>62630.000000</td>\n",
       "      <td>62630.000000</td>\n",
       "      <td>62630.000000</td>\n",
       "      <td>62630.000000</td>\n",
       "      <td>62630.000000</td>\n",
       "      <td>62630.000000</td>\n",
       "      <td>62630.000000</td>\n",
       "      <td>62630.000000</td>\n",
       "      <td>62630.000000</td>\n",
       "      <td>62630.000000</td>\n",
       "      <td>62630.000000</td>\n",
       "    </tr>\n",
       "    <tr>\n",
       "      <th>mean</th>\n",
       "      <td>15.970424</td>\n",
       "      <td>48.539499</td>\n",
       "      <td>1942.057528</td>\n",
       "      <td>670.021044</td>\n",
       "      <td>12942.453936</td>\n",
       "      <td>19754.257912</td>\n",
       "      <td>938.627649</td>\n",
       "      <td>100.594309</td>\n",
       "      <td>184.467770</td>\n",
       "      <td>491.463608</td>\n",
       "      <td>203.586487</td>\n",
       "      <td>80.049042</td>\n",
       "      <td>0.714626</td>\n",
       "    </tr>\n",
       "    <tr>\n",
       "      <th>std</th>\n",
       "      <td>14.359576</td>\n",
       "      <td>8.865367</td>\n",
       "      <td>7811.589055</td>\n",
       "      <td>1905.885439</td>\n",
       "      <td>272.464305</td>\n",
       "      <td>609.513156</td>\n",
       "      <td>1.331344</td>\n",
       "      <td>922.524245</td>\n",
       "      <td>1976.305615</td>\n",
       "      <td>4265.661251</td>\n",
       "      <td>2214.738556</td>\n",
       "      <td>1083.383189</td>\n",
       "      <td>0.451596</td>\n",
       "    </tr>\n",
       "    <tr>\n",
       "      <th>min</th>\n",
       "      <td>-22.010000</td>\n",
       "      <td>10.740000</td>\n",
       "      <td>0.000000</td>\n",
       "      <td>400.000000</td>\n",
       "      <td>10668.000000</td>\n",
       "      <td>15317.000000</td>\n",
       "      <td>930.852000</td>\n",
       "      <td>0.000000</td>\n",
       "      <td>0.000000</td>\n",
       "      <td>0.000000</td>\n",
       "      <td>0.000000</td>\n",
       "      <td>0.000000</td>\n",
       "      <td>0.000000</td>\n",
       "    </tr>\n",
       "    <tr>\n",
       "      <th>25%</th>\n",
       "      <td>10.994250</td>\n",
       "      <td>47.530000</td>\n",
       "      <td>130.000000</td>\n",
       "      <td>400.000000</td>\n",
       "      <td>12830.000000</td>\n",
       "      <td>19435.000000</td>\n",
       "      <td>938.700000</td>\n",
       "      <td>1.280000</td>\n",
       "      <td>1.340000</td>\n",
       "      <td>8.820000</td>\n",
       "      <td>1.384000</td>\n",
       "      <td>0.033000</td>\n",
       "      <td>0.000000</td>\n",
       "    </tr>\n",
       "    <tr>\n",
       "      <th>50%</th>\n",
       "      <td>20.130000</td>\n",
       "      <td>50.150000</td>\n",
       "      <td>981.000000</td>\n",
       "      <td>400.000000</td>\n",
       "      <td>12924.000000</td>\n",
       "      <td>19501.000000</td>\n",
       "      <td>938.816000</td>\n",
       "      <td>1.810000</td>\n",
       "      <td>1.880000</td>\n",
       "      <td>12.450000</td>\n",
       "      <td>1.943000</td>\n",
       "      <td>0.044000</td>\n",
       "      <td>1.000000</td>\n",
       "    </tr>\n",
       "    <tr>\n",
       "      <th>75%</th>\n",
       "      <td>25.409500</td>\n",
       "      <td>53.240000</td>\n",
       "      <td>1189.000000</td>\n",
       "      <td>438.000000</td>\n",
       "      <td>13109.000000</td>\n",
       "      <td>20078.000000</td>\n",
       "      <td>939.418000</td>\n",
       "      <td>2.090000</td>\n",
       "      <td>2.180000</td>\n",
       "      <td>14.420000</td>\n",
       "      <td>2.249000</td>\n",
       "      <td>0.051000</td>\n",
       "      <td>1.000000</td>\n",
       "    </tr>\n",
       "    <tr>\n",
       "      <th>max</th>\n",
       "      <td>59.930000</td>\n",
       "      <td>75.200000</td>\n",
       "      <td>60000.000000</td>\n",
       "      <td>60000.000000</td>\n",
       "      <td>13803.000000</td>\n",
       "      <td>21410.000000</td>\n",
       "      <td>939.861000</td>\n",
       "      <td>14333.690000</td>\n",
       "      <td>45432.260000</td>\n",
       "      <td>61482.030000</td>\n",
       "      <td>51914.680000</td>\n",
       "      <td>30026.438000</td>\n",
       "      <td>1.000000</td>\n",
       "    </tr>\n",
       "  </tbody>\n",
       "</table>\n",
       "</div>"
      ],
      "text/plain": [
       "       Temperatur_C  Humidity_percent      TVOC_ppd      eCO2_ppm   \n",
       "count  62630.000000      62630.000000  62630.000000  62630.000000  \\\n",
       "mean      15.970424         48.539499   1942.057528    670.021044   \n",
       "std       14.359576          8.865367   7811.589055   1905.885439   \n",
       "min      -22.010000         10.740000      0.000000    400.000000   \n",
       "25%       10.994250         47.530000    130.000000    400.000000   \n",
       "50%       20.130000         50.150000    981.000000    400.000000   \n",
       "75%       25.409500         53.240000   1189.000000    438.000000   \n",
       "max       59.930000         75.200000  60000.000000  60000.000000   \n",
       "\n",
       "             Raw_H2   Raw_Ethanol  Pressure_hpa         PM1_0         PM2_5   \n",
       "count  62630.000000  62630.000000  62630.000000  62630.000000  62630.000000  \\\n",
       "mean   12942.453936  19754.257912    938.627649    100.594309    184.467770   \n",
       "std      272.464305    609.513156      1.331344    922.524245   1976.305615   \n",
       "min    10668.000000  15317.000000    930.852000      0.000000      0.000000   \n",
       "25%    12830.000000  19435.000000    938.700000      1.280000      1.340000   \n",
       "50%    12924.000000  19501.000000    938.816000      1.810000      1.880000   \n",
       "75%    13109.000000  20078.000000    939.418000      2.090000      2.180000   \n",
       "max    13803.000000  21410.000000    939.861000  14333.690000  45432.260000   \n",
       "\n",
       "              NC0_5         NC1_0         NC2_5    Fire_Alarm  \n",
       "count  62630.000000  62630.000000  62630.000000  62630.000000  \n",
       "mean     491.463608    203.586487     80.049042      0.714626  \n",
       "std     4265.661251   2214.738556   1083.383189      0.451596  \n",
       "min        0.000000      0.000000      0.000000      0.000000  \n",
       "25%        8.820000      1.384000      0.033000      0.000000  \n",
       "50%       12.450000      1.943000      0.044000      1.000000  \n",
       "75%       14.420000      2.249000      0.051000      1.000000  \n",
       "max    61482.030000  51914.680000  30026.438000      1.000000  "
      ]
     },
     "execution_count": 6,
     "metadata": {},
     "output_type": "execute_result"
    }
   ],
   "source": [
    "df.describe()"
   ]
  },
  {
   "cell_type": "markdown",
   "id": "afa77105",
   "metadata": {},
   "source": [
    "### Lets check for missing values\n",
    "\n",
    "Lets check for missing values by suming the total na's for each attribute"
   ]
  },
  {
   "cell_type": "code",
   "execution_count": 7,
   "id": "5436f009",
   "metadata": {},
   "outputs": [
    {
     "data": {
      "text/plain": [
       "Temperatur_C        0\n",
       "Humidity_percent    0\n",
       "TVOC_ppd            0\n",
       "eCO2_ppm            0\n",
       "Raw_H2              0\n",
       "Raw_Ethanol         0\n",
       "Pressure_hpa        0\n",
       "PM1_0               0\n",
       "PM2_5               0\n",
       "NC0_5               0\n",
       "NC1_0               0\n",
       "NC2_5               0\n",
       "Fire_Alarm          0\n",
       "dtype: int64"
      ]
     },
     "execution_count": 7,
     "metadata": {},
     "output_type": "execute_result"
    }
   ],
   "source": [
    "df.isna().sum()"
   ]
  },
  {
   "cell_type": "markdown",
   "id": "c85b33df",
   "metadata": {},
   "source": [
    "Here we can clearlly observe that there are no missing values in the data set "
   ]
  },
  {
   "cell_type": "markdown",
   "id": "9de7cd8a",
   "metadata": {},
   "source": [
    "### Lets check for categorical variables\n",
    "\n",
    "Lets find the categorical varibles by summing the total na's for each attribute"
   ]
  },
  {
   "cell_type": "code",
   "execution_count": 8,
   "id": "3686a5a8",
   "metadata": {},
   "outputs": [
    {
     "name": "stdout",
     "output_type": "stream",
     "text": [
      "<class 'pandas.core.frame.DataFrame'>\n",
      "RangeIndex: 62630 entries, 0 to 62629\n",
      "Data columns (total 13 columns):\n",
      " #   Column            Non-Null Count  Dtype  \n",
      "---  ------            --------------  -----  \n",
      " 0   Temperatur_C      62630 non-null  float64\n",
      " 1   Humidity_percent  62630 non-null  float64\n",
      " 2   TVOC_ppd          62630 non-null  int64  \n",
      " 3   eCO2_ppm          62630 non-null  int64  \n",
      " 4   Raw_H2            62630 non-null  int64  \n",
      " 5   Raw_Ethanol       62630 non-null  int64  \n",
      " 6   Pressure_hpa      62630 non-null  float64\n",
      " 7   PM1_0             62630 non-null  float64\n",
      " 8   PM2_5             62630 non-null  float64\n",
      " 9   NC0_5             62630 non-null  float64\n",
      " 10  NC1_0             62630 non-null  float64\n",
      " 11  NC2_5             62630 non-null  float64\n",
      " 12  Fire_Alarm        62630 non-null  int64  \n",
      "dtypes: float64(8), int64(5)\n",
      "memory usage: 6.2 MB\n"
     ]
    }
   ],
   "source": [
    "df.info()"
   ]
  },
  {
   "cell_type": "markdown",
   "id": "76ad5591",
   "metadata": {},
   "source": [
    "Here we can observe that there are no object data types which indicates that there are no categorical variables and also all the attriutes were numeric. So, we can conclude that there are no catergorical variables in this data set"
   ]
  },
  {
   "cell_type": "markdown",
   "id": "74e54f26",
   "metadata": {},
   "source": [
    "### Checking the disturbution\n",
    "\n",
    "Lets check the disturbution of main attributes in the data set"
   ]
  },
  {
   "cell_type": "code",
   "execution_count": 9,
   "id": "2581b11a",
   "metadata": {},
   "outputs": [
    {
     "data": {
      "text/plain": [
       "<seaborn.axisgrid.FacetGrid at 0x2654aed2e50>"
      ]
     },
     "execution_count": 9,
     "metadata": {},
     "output_type": "execute_result"
    },
    {
     "data": {
      "image/png": "[encoded data removed]",
      "text/plain": [
       "<Figure size 500x500 with 1 Axes>"
      ]
     },
     "metadata": {},
     "output_type": "display_data"
    },
    {
     "data": {
      "image/png": "[encoded data removed]",
      "text/plain": [
       "<Figure size 500x500 with 1 Axes>"
      ]
     },
     "metadata": {},
     "output_type": "display_data"
    },
    {
     "data": {
      "image/png": "[encoded data removed]",
      "text/plain": [
       "<Figure size 500x500 with 1 Axes>"
      ]
     },
     "metadata": {},
     "output_type": "display_data"
    }
   ],
   "source": [
    "sns.displot(df['Temperatur_C'])\n",
    "sns.displot(df.Humidity_percent)\n",
    "sns.displot(df.Pressure_hpa)"
   ]
  },
  {
   "cell_type": "markdown",
   "id": "a8f2ba36",
   "metadata": {},
   "source": [
    "We can observe that few variables are having the normal disturbution and the presssure_hpa is skwed towards the right."
   ]
  },
  {
   "cell_type": "markdown",
   "id": "6f9318ea",
   "metadata": {},
   "source": [
    "### Checking the count of unique data in the target variable"
   ]
  },
  {
   "cell_type": "code",
   "execution_count": 10,
   "id": "11f61c82",
   "metadata": {},
   "outputs": [
    {
     "data": {
      "text/plain": [
       "Fire_Alarm\n",
       "1    44757\n",
       "0    17873\n",
       "Name: count, dtype: int64"
      ]
     },
     "execution_count": 10,
     "metadata": {},
     "output_type": "execute_result"
    }
   ],
   "source": [
    "df.Fire_Alarm.value_counts()"
   ]
  },
  {
   "cell_type": "markdown",
   "id": "b51d899c",
   "metadata": {},
   "source": [
    "We can clearlly see the data imbalance here"
   ]
  },
  {
   "cell_type": "markdown",
   "id": "98f4de7a",
   "metadata": {},
   "source": [
    "### Splitting the data set into train and test sets\n",
    "\n",
    "Splitting the data into 70% training and 30% testing using the train test split"
   ]
  },
  {
   "cell_type": "code",
   "execution_count": 11,
   "id": "e15a830d",
   "metadata": {},
   "outputs": [],
   "source": [
    "X_names = list(df.columns)\n",
    "X_names.remove('Fire_Alarm') #Getting all the input variables\n",
    "X = df[X_names]\n",
    "y = df['Fire_Alarm']\n",
    "\n",
    "train_df, test_df = train_test_split(df, test_size=0.3, random_state=1)"
   ]
  },
  {
   "cell_type": "code",
   "execution_count": 12,
   "id": "78701146",
   "metadata": {},
   "outputs": [],
   "source": [
    "train_X = train_df.drop(columns=['Fire_Alarm'])\n",
    "train_y = train_df.Fire_Alarm\n",
    "test_X = test_df.drop(columns=['Fire_Alarm'])\n",
    "test_y = test_df.Fire_Alarm"
   ]
  },
  {
   "cell_type": "markdown",
   "id": "bc5b12b6",
   "metadata": {},
   "source": [
    "### Saving the train and test data sets as a csv files"
   ]
  },
  {
   "cell_type": "code",
   "execution_count": 13,
   "id": "929d9c93",
   "metadata": {},
   "outputs": [],
   "source": [
    "train_df.to_csv('smoke_train_df.csv', index=False)\n",
    "train_X.to_csv('smoke_train_X.csv', index=False)\n",
    "train_y.to_csv('smoke_train_y.csv', index=False)\n",
    "test_df.to_csv('smoke_test_df.csv', index=False)\n",
    "test_X.to_csv('smoke_test_X.csv', index=False)\n",
    "test_y.to_csv('smoke_test_y.csv', index=False)"
   ]
  },
  {
   "cell_type": "code",
   "execution_count": null,
   "id": "45442e3f",
   "metadata": {},
   "outputs": [],
   "source": []
  }
 ],
 "metadata": {
  "kernelspec": {
   "display_name": "Python 3 (ipykernel)",
   "language": "python",
   "name": "python3"
  },
  "language_info": {
   "codemirror_mode": {
    "name": "ipython",
    "version": 3
   },
   "file_extension": ".py",
   "mimetype": "text/x-python",
   "name": "python",
   "nbconvert_exporter": "python",
   "pygments_lexer": "ipython3",
   "version": "3.9.16"
  }
 },
 "nbformat": 4,
 "nbformat_minor": 5
}
